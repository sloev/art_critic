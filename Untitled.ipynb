{
 "cells": [
  {
   "cell_type": "code",
   "execution_count": 124,
   "metadata": {},
   "outputs": [],
   "source": [
    "import spacy\n",
    "from spacy import displacy\n",
    "nlp = spacy.load(\"en_core_web_md\")\n"
   ]
  },
  {
   "cell_type": "code",
   "execution_count": 3,
   "metadata": {},
   "outputs": [],
   "source": [
    "\n",
    "sentences = [\n",
    "    'a rusted fire hydrant sitting in the middle of a forest .',\n",
    "    'a person riding a surf board on a wave',\n",
    "    'a man riding a wave on a surfboard in the ocean .'\n",
    "]\n"
   ]
  },
  {
   "cell_type": "code",
   "execution_count": 4,
   "metadata": {},
   "outputs": [
    {
     "data": {
      "text/html": [
       "<svg xmlns=\"http://www.w3.org/2000/svg\" xmlns:xlink=\"http://www.w3.org/1999/xlink\" xml:lang=\"en\" id=\"21ef5a44e50d413e98231c72b7c161d8-0\" class=\"displacy\" width=\"1975\" height=\"399.5\" direction=\"ltr\" style=\"max-width: none; height: 399.5px; color: #000000; background: #ffffff; font-family: Arial; direction: ltr\">\n",
       "<text class=\"displacy-token\" fill=\"currentColor\" text-anchor=\"middle\" y=\"309.5\">\n",
       "    <tspan class=\"displacy-word\" fill=\"currentColor\" x=\"50\">a</tspan>\n",
       "    <tspan class=\"displacy-tag\" dy=\"2em\" fill=\"currentColor\" x=\"50\">DET</tspan>\n",
       "</text>\n",
       "\n",
       "<text class=\"displacy-token\" fill=\"currentColor\" text-anchor=\"middle\" y=\"309.5\">\n",
       "    <tspan class=\"displacy-word\" fill=\"currentColor\" x=\"225\">rusted</tspan>\n",
       "    <tspan class=\"displacy-tag\" dy=\"2em\" fill=\"currentColor\" x=\"225\">ADJ</tspan>\n",
       "</text>\n",
       "\n",
       "<text class=\"displacy-token\" fill=\"currentColor\" text-anchor=\"middle\" y=\"309.5\">\n",
       "    <tspan class=\"displacy-word\" fill=\"currentColor\" x=\"400\">fire</tspan>\n",
       "    <tspan class=\"displacy-tag\" dy=\"2em\" fill=\"currentColor\" x=\"400\">NOUN</tspan>\n",
       "</text>\n",
       "\n",
       "<text class=\"displacy-token\" fill=\"currentColor\" text-anchor=\"middle\" y=\"309.5\">\n",
       "    <tspan class=\"displacy-word\" fill=\"currentColor\" x=\"575\">hydrant</tspan>\n",
       "    <tspan class=\"displacy-tag\" dy=\"2em\" fill=\"currentColor\" x=\"575\">NOUN</tspan>\n",
       "</text>\n",
       "\n",
       "<text class=\"displacy-token\" fill=\"currentColor\" text-anchor=\"middle\" y=\"309.5\">\n",
       "    <tspan class=\"displacy-word\" fill=\"currentColor\" x=\"750\">sitting</tspan>\n",
       "    <tspan class=\"displacy-tag\" dy=\"2em\" fill=\"currentColor\" x=\"750\">VERB</tspan>\n",
       "</text>\n",
       "\n",
       "<text class=\"displacy-token\" fill=\"currentColor\" text-anchor=\"middle\" y=\"309.5\">\n",
       "    <tspan class=\"displacy-word\" fill=\"currentColor\" x=\"925\">in</tspan>\n",
       "    <tspan class=\"displacy-tag\" dy=\"2em\" fill=\"currentColor\" x=\"925\">ADP</tspan>\n",
       "</text>\n",
       "\n",
       "<text class=\"displacy-token\" fill=\"currentColor\" text-anchor=\"middle\" y=\"309.5\">\n",
       "    <tspan class=\"displacy-word\" fill=\"currentColor\" x=\"1100\">the</tspan>\n",
       "    <tspan class=\"displacy-tag\" dy=\"2em\" fill=\"currentColor\" x=\"1100\">DET</tspan>\n",
       "</text>\n",
       "\n",
       "<text class=\"displacy-token\" fill=\"currentColor\" text-anchor=\"middle\" y=\"309.5\">\n",
       "    <tspan class=\"displacy-word\" fill=\"currentColor\" x=\"1275\">middle</tspan>\n",
       "    <tspan class=\"displacy-tag\" dy=\"2em\" fill=\"currentColor\" x=\"1275\">NOUN</tspan>\n",
       "</text>\n",
       "\n",
       "<text class=\"displacy-token\" fill=\"currentColor\" text-anchor=\"middle\" y=\"309.5\">\n",
       "    <tspan class=\"displacy-word\" fill=\"currentColor\" x=\"1450\">of</tspan>\n",
       "    <tspan class=\"displacy-tag\" dy=\"2em\" fill=\"currentColor\" x=\"1450\">ADP</tspan>\n",
       "</text>\n",
       "\n",
       "<text class=\"displacy-token\" fill=\"currentColor\" text-anchor=\"middle\" y=\"309.5\">\n",
       "    <tspan class=\"displacy-word\" fill=\"currentColor\" x=\"1625\">a</tspan>\n",
       "    <tspan class=\"displacy-tag\" dy=\"2em\" fill=\"currentColor\" x=\"1625\">DET</tspan>\n",
       "</text>\n",
       "\n",
       "<text class=\"displacy-token\" fill=\"currentColor\" text-anchor=\"middle\" y=\"309.5\">\n",
       "    <tspan class=\"displacy-word\" fill=\"currentColor\" x=\"1800\">forest .</tspan>\n",
       "    <tspan class=\"displacy-tag\" dy=\"2em\" fill=\"currentColor\" x=\"1800\">NOUN</tspan>\n",
       "</text>\n",
       "\n",
       "<g class=\"displacy-arrow\">\n",
       "    <path class=\"displacy-arc\" id=\"arrow-21ef5a44e50d413e98231c72b7c161d8-0-0\" stroke-width=\"2px\" d=\"M70,264.5 C70,2.0 575.0,2.0 575.0,264.5\" fill=\"none\" stroke=\"currentColor\"/>\n",
       "    <text dy=\"1.25em\" style=\"font-size: 0.8em; letter-spacing: 1px\">\n",
       "        <textPath xlink:href=\"#arrow-21ef5a44e50d413e98231c72b7c161d8-0-0\" class=\"displacy-label\" startOffset=\"50%\" side=\"left\" fill=\"currentColor\" text-anchor=\"middle\">det</textPath>\n",
       "    </text>\n",
       "    <path class=\"displacy-arrowhead\" d=\"M70,266.5 L62,254.5 78,254.5\" fill=\"currentColor\"/>\n",
       "</g>\n",
       "\n",
       "<g class=\"displacy-arrow\">\n",
       "    <path class=\"displacy-arc\" id=\"arrow-21ef5a44e50d413e98231c72b7c161d8-0-1\" stroke-width=\"2px\" d=\"M245,264.5 C245,89.5 570.0,89.5 570.0,264.5\" fill=\"none\" stroke=\"currentColor\"/>\n",
       "    <text dy=\"1.25em\" style=\"font-size: 0.8em; letter-spacing: 1px\">\n",
       "        <textPath xlink:href=\"#arrow-21ef5a44e50d413e98231c72b7c161d8-0-1\" class=\"displacy-label\" startOffset=\"50%\" side=\"left\" fill=\"currentColor\" text-anchor=\"middle\">amod</textPath>\n",
       "    </text>\n",
       "    <path class=\"displacy-arrowhead\" d=\"M245,266.5 L237,254.5 253,254.5\" fill=\"currentColor\"/>\n",
       "</g>\n",
       "\n",
       "<g class=\"displacy-arrow\">\n",
       "    <path class=\"displacy-arc\" id=\"arrow-21ef5a44e50d413e98231c72b7c161d8-0-2\" stroke-width=\"2px\" d=\"M420,264.5 C420,177.0 565.0,177.0 565.0,264.5\" fill=\"none\" stroke=\"currentColor\"/>\n",
       "    <text dy=\"1.25em\" style=\"font-size: 0.8em; letter-spacing: 1px\">\n",
       "        <textPath xlink:href=\"#arrow-21ef5a44e50d413e98231c72b7c161d8-0-2\" class=\"displacy-label\" startOffset=\"50%\" side=\"left\" fill=\"currentColor\" text-anchor=\"middle\">compound</textPath>\n",
       "    </text>\n",
       "    <path class=\"displacy-arrowhead\" d=\"M420,266.5 L412,254.5 428,254.5\" fill=\"currentColor\"/>\n",
       "</g>\n",
       "\n",
       "<g class=\"displacy-arrow\">\n",
       "    <path class=\"displacy-arc\" id=\"arrow-21ef5a44e50d413e98231c72b7c161d8-0-3\" stroke-width=\"2px\" d=\"M595,264.5 C595,177.0 740.0,177.0 740.0,264.5\" fill=\"none\" stroke=\"currentColor\"/>\n",
       "    <text dy=\"1.25em\" style=\"font-size: 0.8em; letter-spacing: 1px\">\n",
       "        <textPath xlink:href=\"#arrow-21ef5a44e50d413e98231c72b7c161d8-0-3\" class=\"displacy-label\" startOffset=\"50%\" side=\"left\" fill=\"currentColor\" text-anchor=\"middle\">acl</textPath>\n",
       "    </text>\n",
       "    <path class=\"displacy-arrowhead\" d=\"M740.0,266.5 L748.0,254.5 732.0,254.5\" fill=\"currentColor\"/>\n",
       "</g>\n",
       "\n",
       "<g class=\"displacy-arrow\">\n",
       "    <path class=\"displacy-arc\" id=\"arrow-21ef5a44e50d413e98231c72b7c161d8-0-4\" stroke-width=\"2px\" d=\"M770,264.5 C770,177.0 915.0,177.0 915.0,264.5\" fill=\"none\" stroke=\"currentColor\"/>\n",
       "    <text dy=\"1.25em\" style=\"font-size: 0.8em; letter-spacing: 1px\">\n",
       "        <textPath xlink:href=\"#arrow-21ef5a44e50d413e98231c72b7c161d8-0-4\" class=\"displacy-label\" startOffset=\"50%\" side=\"left\" fill=\"currentColor\" text-anchor=\"middle\">prep</textPath>\n",
       "    </text>\n",
       "    <path class=\"displacy-arrowhead\" d=\"M915.0,266.5 L923.0,254.5 907.0,254.5\" fill=\"currentColor\"/>\n",
       "</g>\n",
       "\n",
       "<g class=\"displacy-arrow\">\n",
       "    <path class=\"displacy-arc\" id=\"arrow-21ef5a44e50d413e98231c72b7c161d8-0-5\" stroke-width=\"2px\" d=\"M1120,264.5 C1120,177.0 1265.0,177.0 1265.0,264.5\" fill=\"none\" stroke=\"currentColor\"/>\n",
       "    <text dy=\"1.25em\" style=\"font-size: 0.8em; letter-spacing: 1px\">\n",
       "        <textPath xlink:href=\"#arrow-21ef5a44e50d413e98231c72b7c161d8-0-5\" class=\"displacy-label\" startOffset=\"50%\" side=\"left\" fill=\"currentColor\" text-anchor=\"middle\">det</textPath>\n",
       "    </text>\n",
       "    <path class=\"displacy-arrowhead\" d=\"M1120,266.5 L1112,254.5 1128,254.5\" fill=\"currentColor\"/>\n",
       "</g>\n",
       "\n",
       "<g class=\"displacy-arrow\">\n",
       "    <path class=\"displacy-arc\" id=\"arrow-21ef5a44e50d413e98231c72b7c161d8-0-6\" stroke-width=\"2px\" d=\"M945,264.5 C945,89.5 1270.0,89.5 1270.0,264.5\" fill=\"none\" stroke=\"currentColor\"/>\n",
       "    <text dy=\"1.25em\" style=\"font-size: 0.8em; letter-spacing: 1px\">\n",
       "        <textPath xlink:href=\"#arrow-21ef5a44e50d413e98231c72b7c161d8-0-6\" class=\"displacy-label\" startOffset=\"50%\" side=\"left\" fill=\"currentColor\" text-anchor=\"middle\">pobj</textPath>\n",
       "    </text>\n",
       "    <path class=\"displacy-arrowhead\" d=\"M1270.0,266.5 L1278.0,254.5 1262.0,254.5\" fill=\"currentColor\"/>\n",
       "</g>\n",
       "\n",
       "<g class=\"displacy-arrow\">\n",
       "    <path class=\"displacy-arc\" id=\"arrow-21ef5a44e50d413e98231c72b7c161d8-0-7\" stroke-width=\"2px\" d=\"M1295,264.5 C1295,177.0 1440.0,177.0 1440.0,264.5\" fill=\"none\" stroke=\"currentColor\"/>\n",
       "    <text dy=\"1.25em\" style=\"font-size: 0.8em; letter-spacing: 1px\">\n",
       "        <textPath xlink:href=\"#arrow-21ef5a44e50d413e98231c72b7c161d8-0-7\" class=\"displacy-label\" startOffset=\"50%\" side=\"left\" fill=\"currentColor\" text-anchor=\"middle\">prep</textPath>\n",
       "    </text>\n",
       "    <path class=\"displacy-arrowhead\" d=\"M1440.0,266.5 L1448.0,254.5 1432.0,254.5\" fill=\"currentColor\"/>\n",
       "</g>\n",
       "\n",
       "<g class=\"displacy-arrow\">\n",
       "    <path class=\"displacy-arc\" id=\"arrow-21ef5a44e50d413e98231c72b7c161d8-0-8\" stroke-width=\"2px\" d=\"M1645,264.5 C1645,177.0 1790.0,177.0 1790.0,264.5\" fill=\"none\" stroke=\"currentColor\"/>\n",
       "    <text dy=\"1.25em\" style=\"font-size: 0.8em; letter-spacing: 1px\">\n",
       "        <textPath xlink:href=\"#arrow-21ef5a44e50d413e98231c72b7c161d8-0-8\" class=\"displacy-label\" startOffset=\"50%\" side=\"left\" fill=\"currentColor\" text-anchor=\"middle\">det</textPath>\n",
       "    </text>\n",
       "    <path class=\"displacy-arrowhead\" d=\"M1645,266.5 L1637,254.5 1653,254.5\" fill=\"currentColor\"/>\n",
       "</g>\n",
       "\n",
       "<g class=\"displacy-arrow\">\n",
       "    <path class=\"displacy-arc\" id=\"arrow-21ef5a44e50d413e98231c72b7c161d8-0-9\" stroke-width=\"2px\" d=\"M1470,264.5 C1470,89.5 1795.0,89.5 1795.0,264.5\" fill=\"none\" stroke=\"currentColor\"/>\n",
       "    <text dy=\"1.25em\" style=\"font-size: 0.8em; letter-spacing: 1px\">\n",
       "        <textPath xlink:href=\"#arrow-21ef5a44e50d413e98231c72b7c161d8-0-9\" class=\"displacy-label\" startOffset=\"50%\" side=\"left\" fill=\"currentColor\" text-anchor=\"middle\">pobj</textPath>\n",
       "    </text>\n",
       "    <path class=\"displacy-arrowhead\" d=\"M1795.0,266.5 L1803.0,254.5 1787.0,254.5\" fill=\"currentColor\"/>\n",
       "</g>\n",
       "</svg>"
      ],
      "text/plain": [
       "<IPython.core.display.HTML object>"
      ]
     },
     "metadata": {},
     "output_type": "display_data"
    }
   ],
   "source": [
    "doc = nlp(sentences[0])\n",
    "displacy.render(doc, style=\"dep\")"
   ]
  },
  {
   "cell_type": "code",
   "execution_count": 66,
   "metadata": {},
   "outputs": [
    {
     "name": "stdout",
     "output_type": "stream",
     "text": [
      "a DET det []\n",
      "rusted ADJ amod []\n",
      "fire NOUN compound []\n",
      "hydrant NOUN ROOT [a, rusted, fire, sitting, .]\n",
      "sitting VERB acl [in]\n",
      "in ADP prep [middle]\n",
      "the DET det []\n",
      "middle NOUN pobj [the, of]\n",
      "of ADP prep [forest]\n",
      "a DET det []\n",
      "forest NOUN pobj [a]\n",
      ". PUNCT punct []\n"
     ]
    }
   ],
   "source": [
    "for token in doc:\n",
    "    print(token.text, token.pos_, token.dep_, list(token.children))"
   ]
  },
  {
   "cell_type": "code",
   "execution_count": 52,
   "metadata": {},
   "outputs": [],
   "source": [
    "import numpy as np"
   ]
  },
  {
   "cell_type": "code",
   "execution_count": 63,
   "metadata": {},
   "outputs": [
    {
     "data": {
      "text/plain": [
       "['SITTING',\n",
       " 'Sitting',\n",
       " 'Sit',\n",
       " 'sIt',\n",
       " 'Standing',\n",
       " 'STANDING',\n",
       " 'HUDDLED',\n",
       " 'SAT',\n",
       " 'BACKSEAT',\n",
       " 'SQUINTING',\n",
       " 'PRESIDES',\n",
       " 'cross-legged',\n",
       " 'BESIDE',\n",
       " 'DANGLING',\n",
       " 'Reposing']"
      ]
     },
     "execution_count": 63,
     "metadata": {},
     "output_type": "execute_result"
    }
   ],
   "source": [
    "vector1 = nlp(u\"sitting\").vector\n",
    "sim = nlp.vocab.vectors.most_similar(vector1.reshape(1,vector1.shape[0]),n=15)\n",
    "[nlp.vocab[x].text for x in sim[0][0]]"
   ]
  },
  {
   "cell_type": "code",
   "execution_count": 35,
   "metadata": {},
   "outputs": [
    {
     "data": {
      "text/plain": [
       "'ENERGIA'"
      ]
     },
     "execution_count": 35,
     "metadata": {},
     "output_type": "execute_result"
    }
   ],
   "source": []
  },
  {
   "cell_type": "code",
   "execution_count": 24,
   "metadata": {},
   "outputs": [
    {
     "data": {
      "text/plain": [
       "array([-5.7546e-02, -8.4571e-01, -4.1514e-02,  6.0954e-01,  3.4179e-01,\n",
       "        6.5282e-01,  5.0661e-01, -1.3610e-01, -3.5285e-01, -8.8904e-01,\n",
       "       -3.4409e-01,  1.9864e-01, -8.0540e-01, -1.4327e-01, -2.8397e-01,\n",
       "       -5.9908e-01,  4.0531e-02, -7.4836e-02,  4.1804e-01, -4.8003e-01,\n",
       "        4.5094e-01, -1.6258e-01, -4.0158e-02,  2.1432e-01,  2.5593e-01,\n",
       "       -5.3667e-01,  7.9232e-02,  7.4379e-01,  3.0099e-01,  1.6292e-01,\n",
       "        4.2563e-01, -7.1629e-01, -2.2077e-01, -7.7982e-02,  1.2356e-01,\n",
       "        4.2729e-01,  3.9629e-01, -7.2990e-01, -4.1849e-01, -7.8970e-01,\n",
       "       -4.6073e-02,  4.3363e-01,  2.9055e-01,  2.8258e-01, -2.0771e-01,\n",
       "       -4.5043e-02,  2.5606e-01,  9.2051e-02,  3.3783e-01,  3.0548e-01,\n",
       "       -3.8770e-01,  6.1594e-02,  6.5926e-01,  1.6154e-01, -6.5370e-02,\n",
       "        2.3564e-01,  1.1146e-01,  6.9794e-01,  2.3999e-02,  4.4723e-04,\n",
       "       -2.7718e-01,  9.1952e-01, -3.1626e-01, -4.3219e-01, -2.1274e-01,\n",
       "       -9.6145e-01,  2.4626e-01, -4.0073e-01, -3.5371e-01, -2.8662e-01,\n",
       "       -5.8257e-01,  6.3197e-01, -6.5043e-01,  5.6041e-01,  2.3778e-01,\n",
       "       -8.8295e-01,  8.7719e-02,  2.0047e-01,  5.5534e-01,  2.7678e-01,\n",
       "       -3.3737e-01, -3.4577e-01, -7.3685e-01,  2.8751e-01, -1.1298e-01,\n",
       "        7.4613e-01,  8.3492e-01, -1.2114e+00, -3.8072e-01, -3.3071e-01,\n",
       "        1.8181e-01, -1.8872e-01,  6.7738e-01, -2.4736e-01,  9.4315e-02,\n",
       "        9.9341e-01, -2.9377e-01, -5.0029e-01, -3.0256e-02, -2.9247e-01,\n",
       "       -2.7387e-01,  9.3797e-01, -9.4811e-01,  3.8097e-01,  6.8749e-01,\n",
       "       -4.2951e-01, -1.5616e-01, -4.7617e-01, -2.4365e-01,  1.9532e-01,\n",
       "       -8.6111e-02, -5.9197e-01,  1.5993e-01,  4.5202e-02,  5.4542e-01,\n",
       "       -2.6906e-01,  1.3424e-01,  4.7381e-04,  2.0080e-01, -7.6566e-01,\n",
       "        3.2297e-02,  8.8847e-04,  2.9908e-02,  1.4330e-01, -3.2868e-01,\n",
       "        3.1013e-01,  7.4206e-01,  6.5009e-01,  1.1056e+00, -4.1980e-01,\n",
       "       -4.2376e-02, -3.2515e-01, -7.8304e-02, -8.5457e-03,  1.8089e-01,\n",
       "        3.9172e-02, -3.6272e-01, -4.9467e-01, -9.1236e-01,  2.6559e-01,\n",
       "       -8.2303e-01, -4.0949e-01, -3.6803e-01,  2.1943e-01,  3.0816e-01,\n",
       "        3.9893e-01,  3.8685e-01,  4.7350e-01, -1.0975e+00,  1.8048e-01,\n",
       "        6.0438e-01, -5.0761e-01,  7.9499e-01, -8.2295e-02,  5.9127e-01,\n",
       "        6.5574e-02,  5.0376e-02,  2.4552e-01,  5.2859e-01, -8.1240e-01,\n",
       "       -1.7179e-01,  5.1726e-02,  3.1489e-02,  4.5743e-02,  6.6511e-01,\n",
       "        4.1723e-01, -7.9826e-01,  8.8289e-01, -5.3961e-01,  2.3804e-01,\n",
       "        3.7288e-01, -8.1179e-02,  1.3262e-01,  3.3238e-02,  1.0791e-01,\n",
       "        2.5222e-01,  2.0245e-02,  3.6972e-02, -5.7280e-01, -2.2284e-01,\n",
       "        1.8466e-01, -1.1935e-01, -3.4691e-02, -9.7078e-01,  2.5052e-01,\n",
       "        3.2140e-01, -9.7193e-01,  2.3611e-01, -8.5220e-02,  2.3270e-02,\n",
       "        3.4779e-01,  5.3370e-02, -1.9394e-01, -2.9976e-01, -2.0925e-01,\n",
       "       -2.4783e-01, -1.3363e-01, -5.2261e-01,  4.4216e-01,  4.0523e-01,\n",
       "        4.0932e-01,  6.8140e-01,  5.2356e-02, -9.3842e-02,  9.5778e-02,\n",
       "       -5.4335e-01,  5.9880e-01, -1.7178e-01, -4.8034e-01, -1.9997e-01,\n",
       "       -1.9566e-01, -1.6491e-01, -3.3163e-01,  7.5070e-01, -6.5086e-02,\n",
       "       -3.8120e-02,  8.1374e-01,  5.3010e-01,  3.7108e-01,  4.1011e-01,\n",
       "       -7.6066e-01,  4.3376e-02,  1.7193e-02, -5.3001e-02,  5.6395e-01,\n",
       "        4.6867e-01, -4.7318e-01,  3.6520e-01, -8.1176e-02, -5.4191e-01,\n",
       "       -3.7580e-03, -1.3092e-01, -2.3097e-01, -4.4820e-01,  8.6349e-02,\n",
       "        1.4653e-01,  1.6642e-01,  1.1749e-01, -4.7437e-01,  4.9111e-02,\n",
       "        3.8841e-01,  2.3698e-01,  4.3827e-01, -1.6268e-01, -3.3075e-01,\n",
       "        4.1446e-01,  2.1456e-01, -5.0657e-01, -4.0801e-02,  5.7912e-01,\n",
       "       -2.9236e-01, -3.7972e-01, -4.6956e-01,  4.2539e-01,  5.3886e-02,\n",
       "        2.4791e-01, -4.4708e-01,  1.7774e-01,  3.7500e-01, -1.1827e-01,\n",
       "       -2.1284e-01,  6.7549e-01,  1.0666e-01,  8.3907e-01, -5.7975e-01,\n",
       "       -5.6731e-01,  2.9836e-01, -3.1741e-01, -9.6550e-01,  8.2366e-01,\n",
       "       -7.0040e-01, -6.5572e-02, -6.3145e-01,  4.3604e-01,  2.9560e-02,\n",
       "        1.1237e-01,  1.0514e-01, -4.2669e-01, -1.1286e-01,  4.4380e-01,\n",
       "       -4.0671e-01,  2.6891e-01, -5.5303e-01, -4.1646e-01, -5.7862e-01,\n",
       "        6.4800e-01, -1.3324e-01, -5.9001e-01,  2.2235e-01, -9.0326e-02,\n",
       "        1.9511e-01, -8.7447e-01, -5.6625e-01,  1.3820e-01,  1.2366e+00,\n",
       "       -1.0487e-01,  3.6881e-01, -4.1368e-01, -8.5665e-01,  2.0551e-01],\n",
       "      dtype=float32)"
      ]
     },
     "execution_count": 24,
     "metadata": {},
     "output_type": "execute_result"
    }
   ],
   "source": [
    "nlp(u\"Fruta\").vector"
   ]
  },
  {
   "cell_type": "code",
   "execution_count": 137,
   "metadata": {},
   "outputs": [],
   "source": [
    "adjectives = [\n",
    "    'clean',\n",
    "    'fancy',\n",
    "    'plain',\n",
    "    'skinny',\n",
    "    'poor',\n",
    "    'calm',\n",
    "    'gentle'\n",
    "] + ([''] * 5)\n",
    "sentences = [\n",
    "    'a rusted fire hydrant sitting in the middle of a forest .',\n",
    "    'a fire hydrant in front of a brick building .',\n",
    "    'a bird is standing on a rock in a body of water .',\n",
    "    'a vase filled with flowers sitting on top of a wooden table .',\n",
    "    'a boat that is sitting in the water .',\n",
    "    'a clock on the side of a building .',\n",
    "    'a blue and white surfboard sitting on top of a wooden table .',\n",
    "    'a tree filled with lots of green and yellow flowers .',\n",
    "    'a close up of a street sign with a tree in the background',\n",
    "    'a red fire hydrant sitting in the middle of a snow covered forest .'\n",
    "]"
   ]
  },
  {
   "cell_type": "code",
   "execution_count": 138,
   "metadata": {},
   "outputs": [
    {
     "name": "stdout",
     "output_type": "stream",
     "text": [
      "a rusted fire hydrant sitting in the middle of a forest . \n",
      " a rusted fancy fire hydrant sitting in the middle of a poor forest . \n",
      "\n",
      "a fire hydrant in front of a brick building . \n",
      " a skinny fire hydrant in front of a plain brick building . \n",
      "\n",
      "a bird is standing on a rock in a body of water . \n",
      " a bird is sitting on a rock in a body of water . \n",
      "\n",
      "a vase filled with flowers sitting on top of a wooden table . \n",
      " a gentle vase unstuffed with poor flowers sitting on top of a wooden table . \n",
      "\n",
      "a boat that is sitting in the water . \n",
      " a gentle boat that is standing in the calm water . \n",
      "\n",
      "a clock on the side of a building . \n",
      " a clock on the side of a calm building . \n",
      "\n",
      "a blue and white surfboard sitting on top of a wooden table . \n",
      " a blue and white fancy surfboard sitting on top of a wooden table . \n",
      "\n",
      "a tree filled with lots of green and yellow flowers . \n",
      " a calm tree half-filled with lots of green and yellow flowers . \n",
      "\n",
      "a close up of a street sign with a tree in the background \n",
      " a close up of a plain street sign with a tree in the fancy background \n",
      "\n",
      "a red fire hydrant sitting in the middle of a snow covered forest . \n",
      " a red calm fire hydrant standing in the middle of a snow covered clean forest . \n",
      "\n"
     ]
    }
   ],
   "source": [
    "for sent in sentences:\n",
    "    out = []\n",
    "    noun_buffer = []\n",
    "    doc = nlp(sent)\n",
    "\n",
    "    for token in doc:\n",
    "        if token.pos_ == 'NOUN' and token.dep_ in ['ROOT', 'compound', 'pobj']:\n",
    "            if not any(e.dep_ == 'prep' for e in token.children):\n",
    "                noun_buffer.append(token.text)\n",
    "                continue\n",
    "        if noun_buffer:\n",
    "            out.append(random.choice(adjectives))\n",
    "            out.extend(noun_buffer)\n",
    "            noun_buffer.clear()\n",
    "        if token.pos_ == 'VERB':\n",
    "            verb = token.text\n",
    "            vector1 = nlp(verb).vector\n",
    "            sim = nlp.vocab.vectors.most_similar(vector1.reshape(1,vector1.shape[0]),n=10)\n",
    "            cand = list(set([nlp.vocab[x].text.lower() for x in sim[0][0]] + [verb]))\n",
    "            filtered_cand = [c for c in cand if c[-2:] == verb[-2:]]\n",
    "            if not filtered_cand:\n",
    "                filtered_cand = cand\n",
    "\n",
    "            out.append(random.choice(filtered_cand))\n",
    "            continue\n",
    "        out.append(token.text)\n",
    "    if noun_buffer:\n",
    "        out.append(random.choice(adjectives))\n",
    "        out.extend(noun_buffer)\n",
    "\n",
    "    out = ' '.join([x for x in out if x.strip()])\n",
    "\n",
    "    print(doc.text, '\\n', out, '\\n')\n",
    "        \n",
    "        "
   ]
  },
  {
   "cell_type": "code",
   "execution_count": null,
   "metadata": {},
   "outputs": [],
   "source": []
  },
  {
   "cell_type": "code",
   "execution_count": 136,
   "metadata": {},
   "outputs": [
    {
     "name": "stdout",
     "output_type": "stream",
     "text": [
      "  % Total    % Received % Xferd  Average Speed   Time    Time     Time  Current\n",
      "                                 Dload  Upload   Total   Spent    Left  Speed\n",
      "100  149k  100   410  100  149k    407   148k  0:00:01  0:00:01 --:--:--  148k\n",
      "{\n",
      "    \"status\": \"ok\",\n",
      "    \"predictions\": [\n",
      "        {\n",
      "            \"index\": \"0\",\n",
      "            \"caption\": \"a red fire hydrant sitting in the middle of a forest .\",\n",
      "            \"probability\": 0.0010829958887563175\n",
      "        },\n",
      "        {\n",
      "            \"index\": \"1\",\n",
      "            \"caption\": \"a red fire hydrant in the middle of a forest .\",\n",
      "            \"probability\": 0.00037850105638598014\n",
      "        },\n",
      "        {\n",
      "            \"index\": \"2\",\n",
      "            \"caption\": \"a red fire hydrant sitting in the middle of a snow covered forest .\",\n",
      "            \"probability\": 0.00016594257235142114\n",
      "        }\n",
      "    ]\n",
      "}\n"
     ]
    }
   ],
   "source": [
    "!curl -F \"image=@10.jpg\" -X POST http://localhost:5000/model/predict | python -m json.tool"
   ]
  },
  {
   "cell_type": "code",
   "execution_count": null,
   "metadata": {},
   "outputs": [],
   "source": []
  },
  {
   "cell_type": "code",
   "execution_count": 80,
   "metadata": {},
   "outputs": [
    {
     "data": {
      "text/plain": [
       "'a rusted fire hydrant lying in the middle of a forest .'"
      ]
     },
     "execution_count": 80,
     "metadata": {},
     "output_type": "execute_result"
    }
   ],
   "source": [
    "import random\n",
    "for sent in sentence:\n",
    "    out = []\n",
    "    doc = nlp(sent)\n",
    "    for token in doc:\n",
    "        if token.pos_ == 'VERB':\n",
    "            verb = token.text\n",
    "            vector1 = nlp(verb).vector\n",
    "            sim = nlp.vocab.vectors.most_similar(vector1.reshape(1,vector1.shape[0]),n=20)\n",
    "            cand = list(set([nlp.vocab[x].text.lower() for x in sim[0][0]]) - set([verb]))\n",
    "            filtered_cand = [c for c in cand if c[-2:] == verb[-2:]]\n",
    "            if not filtered_cand:\n",
    "                filtered_cand = cand\n",
    "\n",
    "            out.append(random.choice(filtered_cand))\n",
    "        else:\n",
    "            out.append(token.text)\n",
    "    print(doc.text, ' '.join(out))\n"
   ]
  }
 ],
 "metadata": {
  "kernelspec": {
   "display_name": "Python 3",
   "language": "python",
   "name": "python3"
  },
  "language_info": {
   "codemirror_mode": {
    "name": "ipython",
    "version": 3
   },
   "file_extension": ".py",
   "mimetype": "text/x-python",
   "name": "python",
   "nbconvert_exporter": "python",
   "pygments_lexer": "ipython3",
   "version": "3.7.3"
  }
 },
 "nbformat": 4,
 "nbformat_minor": 2
}
